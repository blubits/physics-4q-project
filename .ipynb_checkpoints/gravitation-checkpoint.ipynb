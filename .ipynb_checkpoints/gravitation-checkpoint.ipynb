{
 "cells": [
  {
   "cell_type": "code",
   "execution_count": 1,
   "metadata": {},
   "outputs": [],
   "source": [
    "%matplotlib inline\n",
    "from IPython.display import display\n",
    "import matplotlib.pyplot as pl\n",
    "import numpy as np\n",
    "from sympy import *\n",
    "from sympy.abc import x, y, z\n",
    "\n",
    "init_printing()"
   ]
  },
  {
   "cell_type": "markdown",
   "metadata": {},
   "source": [
    "# Gravitational pull of a uniform sheet\n",
    "\n",
    "A uniform square sheet of metal is floating motionless in space.\n",
    "\n",
    "<img src=\"fig.png\" width=\"300\">\n",
    "\n",
    "The sheet is 10 m on a side and of negligible thickness, and it has a mass of 10 metric tonnes.\n",
    "\n",
    "---"
   ]
  },
  {
   "cell_type": "markdown",
   "metadata": {},
   "source": [
    "## Question 1\n",
    "\n",
    "Consider the gravitational force due to the plate felt by a point mass of 1kg a distance $z$ from the\n",
    "center of the square, in the direction perpendicular to the sheet, as shown above. Show that the\n",
    "component of the force along the z-axis is\n",
    "\n",
    "$$F_z = G\\sigma z\\iint_{-L/2}^{L/2} \\frac{\\,dx\\,dy}{(x^2+y^2+z^2)^{3/2}}$$\n",
    "\n",
    "where $G$ = 6.674 × 10<sup>-11</sup> m<sup>3</sup> kg<sup>-1</sup> s<sup>-2</sup> is Newton’s gravitational constant and $\\sigma$ is the mass per unit area of the sheet."
   ]
  },
  {
   "cell_type": "markdown",
   "metadata": {},
   "source": [
    "## Question 2\n",
    "\n",
    "Calculate and plot the force as a function of $z$ from $z$ = 0 to 10 m.\n",
    "\n",
    "---\n",
    "\n",
    "We define the constants and functions below:"
   ]
  },
  {
   "cell_type": "code",
   "execution_count": 2,
   "metadata": {},
   "outputs": [],
   "source": [
    "G = 6.674e-11\n",
    "L = 10\n",
    "m = 10000\n",
    "rho = m/(L*L)\n",
    "    \n",
    "d = (x**2 + y**2 + z**2)**(-3/2)"
   ]
  },
  {
   "cell_type": "markdown",
   "metadata": {},
   "source": [
    "The force is then given by $G\\sigma z$ multiplied by the double integral, which we will evaluate using Simpson's rule (with $N = 100$)."
   ]
  },
  {
   "cell_type": "code",
   "execution_count": 3,
   "metadata": {},
   "outputs": [],
   "source": [
    "# Intervals (must be even)\n",
    "N = 50\n",
    "\n",
    "# Bounds\n",
    "a = -L/2\n",
    "b = L/2\n",
    "h = (b-a)/N\n",
    "\n",
    "# Converts index to x-value\n",
    "n_to_x = lambda n: a + h*n\n",
    "\n",
    "def Fz(zz, debug=False):\n",
    "    dz = d.subs(z, zz)\n",
    "    \n",
    "    # First we integrate along x...\n",
    "    xint = 0\n",
    "    for n in range(1, N//2):\n",
    "        xint += dz.subs(x, Float(n_to_x(2*n-2), 3)) \\\n",
    "                + 4*dz.subs(x, Float(n_to_x(2*n-1), 3)) \\\n",
    "                + dz.subs(x, Float(n_to_x(2*n), 3))\n",
    "        xint = nsimplify(xint)\n",
    "    xint *= h/3\n",
    "    if debug: display(xint)\n",
    "    \n",
    "    # ...then we integrate along y\n",
    "    yint = 0\n",
    "    for n in range(1, N//2):\n",
    "        yint += xint.subs(y, Float(n_to_x(2*n-2), 2)) \\\n",
    "                + 4*xint.subs(y, Float(n_to_x(2*n-1), 2)) \\\n",
    "                + xint.subs(y, Float(n_to_x(2*n), 2))\n",
    "        yint = nsimplify(yint)\n",
    "    yint *= h/3\n",
    "    if debug: display(yint)\n",
    "    \n",
    "    # Force is then given by\n",
    "    return G*rho*zz*yint"
   ]
  },
  {
   "cell_type": "markdown",
   "metadata": {},
   "source": [
    "Plotting the function from $z$ = 0 to 10, we get"
   ]
  },
  {
   "cell_type": "code",
   "execution_count": null,
   "metadata": {},
   "outputs": [],
   "source": [
    "xz = np.linspace(0, 10, N)\n",
    "pl.plot(xz, [Fz(z) for z in xz], 'bo')"
   ]
  },
  {
   "cell_type": "markdown",
   "metadata": {},
   "source": [
    "## Question 3\n",
    "\n",
    "You should see a smooth curve, except at very small values of $z$, where the force should drop off\n",
    "suddenly to zero. This drop is not a real effect, but an artifact of the way the calculation is done.\n",
    "Explain briefly where this artifact comes from and suggest a strategy to remove it, or at least to\n",
    "decrease its size."
   ]
  },
  {
   "cell_type": "code",
   "execution_count": null,
   "metadata": {},
   "outputs": [],
   "source": [
    "# precision?"
   ]
  },
  {
   "cell_type": "markdown",
   "metadata": {},
   "source": [
    "---\n",
    "\n",
    "This calculation can be thought of as a model for the gravitational pull of a galaxy. Most of the mass in a\n",
    "spiral galaxy (such as our own Milky Way) lies in a thin plane or disk passing through the galactic center,\n",
    "and the gravitational pull exerted by that plane on bodies outside the galaxy can be calculated by just the\n",
    "methods we have employed here."
   ]
  }
 ],
 "metadata": {
  "kernelspec": {
   "display_name": "Python 3",
   "language": "python",
   "name": "python3"
  },
  "language_info": {
   "codemirror_mode": {
    "name": "ipython",
    "version": 3
   },
   "file_extension": ".py",
   "mimetype": "text/x-python",
   "name": "python",
   "nbconvert_exporter": "python",
   "pygments_lexer": "ipython3",
   "version": "3.6.5"
  }
 },
 "nbformat": 4,
 "nbformat_minor": 2
}
