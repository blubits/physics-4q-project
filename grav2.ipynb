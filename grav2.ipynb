{
 "cells": [
  {
   "cell_type": "markdown",
   "metadata": {},
   "source": [
    "# Gravitational pull of a uniform sheet\n",
    "\n",
    "A uniform square sheet of metal is floating motionless in space.\n",
    "\n",
    "<img src=\"fig.png\" width=\"300\">\n",
    "\n",
    "The sheet is 10 m on a side and of negligible thickness, and it has a mass of 10 metric tonnes.\n",
    "\n",
    "---"
   ]
  },
  {
   "cell_type": "markdown",
   "metadata": {},
   "source": [
    "## Question 1\n",
    "\n",
    "Consider the gravitational force due to the plate felt by a point mass of 1kg a distance $z$ from the\n",
    "center of the square, in the direction perpendicular to the sheet, as shown above. Show that the\n",
    "component of the force along the z-axis is\n",
    "\n",
    "$$F_z = G\\sigma Z\\iint_{-L/2}^{L/2} \\frac{\\,dx\\,dy}{(x^2+y^2+z^2)^{3/2}}$$\n",
    "\n",
    "where $G$ = 6.674 × 10<sup>-11</sup> m<sup>3</sup> kg<sup>-1</sup> s<sup>-2</sup> is Newton’s gravitational constant and $\\omega$ is the mass per unit area of the sheet.\n",
    "\n",
    "For the proof of the function, note that\n",
    "        $$F = G \\frac{m_{1}m_{2}}{r^{2}}$$\n",
    "Let $m_{1}$ be the mass of the particle and $m_{2}$ be the mass of the plate\n",
    "\n",
    "$$m_{2} = \\sigma\\,{\\text{d}A}$$ \n",
    "$$m_{2} = \\sigma\\,{\\text{d}x}\\,{\\text{d}y}$$\n",
    "\n",
    "$$r = \\sqrt{x^{2} + y^{2} + z^{2}}$$\n",
    "\n",
    "Therefore, $F$ can be computed from $-L/2$ to $L/2$ \n",
    "$$F = G \\, \\sigma \\iint_{-L/2}^{L/2} \\, \\frac{{\\text{d}x}\\,  {\\text{d}y}}{x^{2} + y^{2} + z^{2}}$$\n",
    "\n",
    "Since we are only looking for $F_{z}$, we know that\n",
    "$$F_{z} = F\\sin\\theta = F\\frac{z}{r} = F \\frac{z}{x^{2} + y^{2} + z^{2}}$$\n",
    "\n",
    "Therefore\n",
    "$$F = G \\, \\sigma \\, z \\iint_{-L/2}^{L/2} \\, \\frac{{\\text{d}x}\\, {\\text{d}y}}{(x^{2} + y^{2} + z^{2})^{\\frac{3}{2}}}$$"
   ]
  },
  {
   "cell_type": "markdown",
   "metadata": {},
   "source": [
    "## Question 2\n",
    "\n",
    "Calculate and plot the force as a function of $z$ from $z$ = 0 to 10 m."
   ]
  },
  {
   "cell_type": "markdown",
   "metadata": {},
   "source": [
    "## Question 3\n",
    "\n",
    "You should see a smooth curve, except at very small values of $z$, where the force should drop off\n",
    "suddenly to zero. This drop is not a real effect, but an artifact of the way the calculation is done.\n",
    "Explain briefly where this artifact comes from and suggest a strategy to remove it, or at least to\n",
    "decrease its size."
   ]
  },
  {
   "cell_type": "markdown",
   "metadata": {},
   "source": [
    "---\n",
    "\n",
    "This calculation can be thought of as a model for the gravitational pull of a galaxy. Most of the mass in a\n",
    "spiral galaxy (such as our own Milky Way) lies in a thin plane or disk passing through the galactic center,\n",
    "and the gravitational pull exerted by that plane on bodies outside the galaxy can be calculated by just the\n",
    "methods we have employed here."
   ]
  }
 ],
 "metadata": {
  "kernelspec": {
   "display_name": "Python 3",
   "language": "python",
   "name": "python3"
  },
  "language_info": {
   "codemirror_mode": {
    "name": "ipython",
    "version": 3
   },
   "file_extension": ".py",
   "mimetype": "text/x-python",
   "name": "python",
   "nbconvert_exporter": "python",
   "pygments_lexer": "ipython3",
   "version": "3.6.5"
  }
 },
 "nbformat": 4,
 "nbformat_minor": 2
}
