{
 "cells": [
  {
   "cell_type": "code",
   "execution_count": 1,
   "metadata": {},
   "outputs": [],
   "source": [
    "%matplotlib inline\n",
    "from IPython.display import display\n",
    "import matplotlib.pyplot as pl\n",
    "import numpy as np\n",
    "from sympy import *\n",
    "from sympy.abc import x, y, z\n",
    "\n",
    "init_printing()"
   ]
  },
  {
   "cell_type": "markdown",
   "metadata": {},
   "source": [
    "# Gravitational pull of a uniform sheet\n",
    "\n",
    "A uniform square sheet of metal is floating motionless in space.\n",
    "\n",
    "<img src=\"fig.png\" width=\"300\">\n",
    "\n",
    "The sheet is 10 m on a side and of negligible thickness, and it has a mass of 10 metric tonnes.\n",
    "\n",
    "---"
   ]
  },
  {
   "cell_type": "markdown",
   "metadata": {},
   "source": [
    "## Question 1\n",
    "\n",
    "Consider the gravitational force due to the plate felt by a point mass of 1kg a distance $z$ from the\n",
    "center of the square, in the direction perpendicular to the sheet, as shown above. Show that the\n",
    "component of the force along the z-axis is\n",
    "\n",
    "$$F_z = G\\sigma z\\iint_{-L/2}^{L/2} \\frac{\\,dx\\,dy}{(x^2+y^2+z^2)^{3/2}}$$\n",
    "\n",
    "where $G$ = 6.674 × 10<sup>-11</sup> m<sup>3</sup> kg<sup>-1</sup> s<sup>-2</sup> is Newton’s gravitational constant and $\\sigma$ is the mass per unit area of the sheet."
   ]
  },
  {
   "cell_type": "markdown",
   "metadata": {},
   "source": [
    "---\n",
    "\n",
    "**Proof.** We know from Newton's law of gravitation that\n",
    "\n",
    "\\begin{align}\n",
    "F &= G\\,\\frac{m_1m_2}{r^2}\n",
    "\\end{align}\n",
    "\n",
    "Let $m_1$ be the mass of the particle and $m_2$ be the mass of the plate. Then\n",
    "\n",
    "\\begin{align}\n",
    "m_2 &= \\sigma \\,dA \\\\\n",
    "&= \\sigma \\,dx \\,dy\n",
    "\\end{align}\n",
    "\n",
    "$r$, the distance from the particle to any point in the plate, is given by\n",
    "\n",
    "\\begin{align}\n",
    "r &= \\sqrt{x^2 + y^2 + z^2}\n",
    "\\end{align}\n",
    "\n",
    "The force from the particle from any point in the plate is then given by\n",
    "\n",
    "\\begin{align}\n",
    "F &= G m_1 \\sigma \\frac{\\,dx \\,dy}{x^2 + y^2 + z^2}\n",
    "\\end{align}\n",
    "\n",
    "We are only looking for the force along the z-axis. We note that\n",
    "\n",
    "\\begin{align}\n",
    "F_z &= F\\sin{\\theta} \\\\\n",
    "&= F\\,\\frac{z}{r} \\\\\n",
    "&= F\\,\\frac{z}{\\sqrt{x^2 + y^2 + z^2}}\n",
    "\\end{align}\n",
    "\n",
    "Substituting, we get\n",
    "\n",
    "\\begin{align}\n",
    "F_z &= G m_1 z \\sigma \\frac{\\,dx \\,dy}{(x^2 + y^2 + z^2)^{\\frac32}}\n",
    "\\end{align}\n",
    "\n",
    "The total force experienced by the particle is the double integral of $F$ along the entire sheet, from $-L/2$ to $L/2$. Therefore,\n",
    "\n",
    "\\begin{align}\n",
    "F_z &= \\iint_{-L/2}^{L/2} G m_1 z \\sigma \\frac{\\,dx \\,dy}{(x^2 + y^2 + z^2)^{\\frac32}} \\\\\n",
    "&= G m_1 z \\sigma \\iint_{-L/2}^{L/2} \\frac{\\,dx \\,dy}{(x^2 + y^2 + z^2)^{\\frac32}} \\\\\n",
    "&= G \\sigma z \\iint_{-L/2}^{L/2} \\frac{\\,dx \\,dy}{(x^2 + y^2 + z^2)^{\\frac32}} \\,\\,\\, \\blacksquare\n",
    "\\end{align}"
   ]
  },
  {
   "cell_type": "markdown",
   "metadata": {},
   "source": [
    "## Question 2\n",
    "\n",
    "Calculate and plot the force as a function of $z$ from $z$ = 0 to 10 m.\n",
    "\n",
    "---\n",
    "\n",
    "We define the constants and functions below:"
   ]
  },
  {
   "cell_type": "code",
   "execution_count": 2,
   "metadata": {},
   "outputs": [],
   "source": [
    "G = 6.674e-11\n",
    "L = 10\n",
    "m = 10000\n",
    "rho = m/(L*L)\n",
    "    \n",
    "d = (x**2 + y**2 + z**2)**(-3/2)"
   ]
  },
  {
   "cell_type": "markdown",
   "metadata": {},
   "source": [
    "The force is then given by $G\\sigma z$ multiplied by the double integral, which we will evaluate using Simpson's rule (with $N = 100$)."
   ]
  },
  {
   "cell_type": "code",
   "execution_count": 3,
   "metadata": {},
   "outputs": [],
   "source": [
    "# Intervals (must be even)\n",
    "N = 5\n",
    "\n",
    "# Bounds\n",
    "a = -L/2\n",
    "b = L/2\n",
    "h = (b-a)/N\n",
    "\n",
    "# Converts index to x-value\n",
    "n_to_x = lambda n: a + h*n\n",
    "\n",
    "def Fz(zz, debug=False):\n",
    "    \n",
    "    # First we integrate along x...\n",
    "    xint = 0\n",
    "    for n in range(1, N//2):\n",
    "        xint += d.subs(x, Float(n_to_x(2*n-2), 3)) \\\n",
    "                + 4*d.subs(x, Float(n_to_x(2*n-1), 3)) \\\n",
    "                + d.subs(x, Float(n_to_x(2*n), 3))\n",
    "        xint = nsimplify(xint)\n",
    "    xint *= h/3\n",
    "    if debug: display(xint)\n",
    "    \n",
    "    # ...then we integrate along y\n",
    "    yint = 0\n",
    "    for n in range(1, N//2):\n",
    "        yint += xint.subs(y, Float(n_to_x(2*n-2), 2)) \\\n",
    "                + 4*xint.subs(y, Float(n_to_x(2*n-1), 2)) \\\n",
    "                + xint.subs(y, Float(n_to_x(2*n), 2))\n",
    "        yint = nsimplify(yint)\n",
    "    yint *= h/3\n",
    "    if debug: display(yint)\n",
    "    \n",
    "    # Force is then given by\n",
    "    return G*rho*zz*yint.subs(z, zz)"
   ]
  },
  {
   "cell_type": "markdown",
   "metadata": {},
   "source": [
    "Plotting the function from $z$ = 0 to 10, we get"
   ]
  },
  {
   "cell_type": "code",
   "execution_count": 20,
   "metadata": {},
   "outputs": [],
   "source": [
    "xz1 = np.linspace(0, 2, 51)\n",
    "xz2 = np.linspace(2, 10, 41)\n",
    "xz = np.concatenate((xz1, xz2))\n",
    "yz = [Fz(z) for z in xz]"
   ]
  },
  {
   "cell_type": "code",
   "execution_count": 21,
   "metadata": {},
   "outputs": [
    {
     "data": {
      "text/plain": [
       "[<matplotlib.lines.Line2D at 0x2421ab2ef60>]"
      ]
     },
     "execution_count": 21,
     "metadata": {},
     "output_type": "execute_result"
    },
    {
     "data": {
      "image/png": "[encoded data removed]",
      "text/plain": [
       "<Figure size 432x288 with 1 Axes>"
      ]
     },
     "metadata": {},
     "output_type": "display_data"
    }
   ],
   "source": [
    "pl.plot(xz, yz, 'bo')"
   ]
  },
  {
   "cell_type": "markdown",
   "metadata": {},
   "source": [
    "## Question 3\n",
    "\n",
    "You should see a smooth curve, except at very small values of $z$, where the force should drop off\n",
    "suddenly to zero. This drop is not a real effect, but an artifact of the way the calculation is done.\n",
    "Explain briefly where this artifact comes from and suggest a strategy to remove it, or at least to\n",
    "decrease its size."
   ]
  },
  {
   "cell_type": "code",
   "execution_count": 6,
   "metadata": {},
   "outputs": [
    {
     "data": {
      "image/png": "[encoded data removed]",
      "text/latex": [
       "$$\\frac{0.666666666666667}{\\left(y^{2} + z^{2} + 25\\right)^{\\frac{3}{2}}} + \\frac{2.66666666666667}{\\left(y^{2} + z^{2} + 9\\right)^{\\frac{3}{2}}} + \\frac{0.666666666666667}{\\left(y^{2} + z^{2} + 1\\right)^{\\frac{3}{2}}}$$"
      ],
      "text/plain": [
       "0.666666666666667   2.66666666666667   0.666666666666667\n",
       "───────────────── + ──────────────── + ─────────────────\n",
       "              3/2                3/2                 3/2\n",
       "⎛ 2    2     ⎞      ⎛ 2    2    ⎞       ⎛ 2    2    ⎞   \n",
       "⎝y  + z  + 25⎠      ⎝y  + z  + 9⎠       ⎝y  + z  + 1⎠   "
      ]
     },
     "metadata": {},
     "output_type": "display_data"
    },
    {
     "data": {
      "image/png": "[encoded data removed]",
      "text/latex": [
       "$$\\frac{0.444444444444444}{\\left(z^{2} + 50\\right)^{\\frac{3}{2}}} + \\frac{3.55555555555556}{\\left(z^{2} + 34\\right)^{\\frac{3}{2}}} + \\frac{0.888888888888889}{\\left(z^{2} + 26\\right)^{\\frac{3}{2}}} + \\frac{7.11111111111111}{\\left(z^{2} + 18\\right)^{\\frac{3}{2}}} + \\frac{3.55555555555556}{\\left(z^{2} + 10\\right)^{\\frac{3}{2}}} + \\frac{0.444444444444444}{\\left(z^{2} + 2\\right)^{\\frac{3}{2}}}$$"
      ],
      "text/plain": [
       "0.444444444444444   3.55555555555556   0.888888888888889   7.11111111111111   \n",
       "───────────────── + ──────────────── + ───────────────── + ──────────────── + \n",
       "            3/2                3/2                 3/2                3/2     \n",
       "   ⎛ 2     ⎞          ⎛ 2     ⎞           ⎛ 2     ⎞          ⎛ 2     ⎞        \n",
       "   ⎝z  + 50⎠          ⎝z  + 34⎠           ⎝z  + 26⎠          ⎝z  + 18⎠        \n",
       "\n",
       "3.55555555555556   0.444444444444444\n",
       "──────────────── + ─────────────────\n",
       "           3/2                3/2   \n",
       "  ⎛ 2     ⎞           ⎛ 2    ⎞      \n",
       "  ⎝z  + 10⎠           ⎝z  + 2⎠      "
      ]
     },
     "metadata": {},
     "output_type": "display_data"
    },
    {
     "data": {
      "image/png": "[encoded data removed]",
      "text/latex": [
       "$$0$$"
      ],
      "text/plain": [
       "0"
      ]
     },
     "execution_count": 6,
     "metadata": {},
     "output_type": "execute_result"
    }
   ],
   "source": [
    "# precision?\n",
    "Fz(0, debug=True)"
   ]
  },
  {
   "cell_type": "markdown",
   "metadata": {},
   "source": [
    "---\n",
    "\n",
    "This calculation can be thought of as a model for the gravitational pull of a galaxy. Most of the mass in a\n",
    "spiral galaxy (such as our own Milky Way) lies in a thin plane or disk passing through the galactic center,\n",
    "and the gravitational pull exerted by that plane on bodies outside the galaxy can be calculated by just the\n",
    "methods we have employed here."
   ]
  }
 ],
 "metadata": {
  "kernelspec": {
   "display_name": "Python 3",
   "language": "python",
   "name": "python3"
  },
  "language_info": {
   "codemirror_mode": {
    "name": "ipython",
    "version": 3
   },
   "file_extension": ".py",
   "mimetype": "text/x-python",
   "name": "python",
   "nbconvert_exporter": "python",
   "pygments_lexer": "ipython3",
   "version": "3.6.5"
  }
 },
 "nbformat": 4,
 "nbformat_minor": 2
}
